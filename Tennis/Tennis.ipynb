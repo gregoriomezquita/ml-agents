{
 "cells": [
  {
   "cell_type": "markdown",
   "metadata": {},
   "source": [
    "# Tennis: Collaboration and Competition\n",
    "\n",
    "---"
   ]
  },
  {
   "cell_type": "markdown",
   "metadata": {},
   "source": [
    "### 1.- Setting the environment"
   ]
  },
  {
   "cell_type": "code",
   "execution_count": 1,
   "metadata": {},
   "outputs": [
    {
     "name": "stderr",
     "output_type": "stream",
     "text": [
      "INFO:unityagents:\n",
      "'Academy' started successfully!\n",
      "Unity Academy name: Academy\n",
      "        Number of Brains: 1\n",
      "        Number of External Brains : 1\n",
      "        Lesson number : 0\n",
      "        Reset Parameters :\n",
      "\t\t\n",
      "Unity brain name: TennisBrain\n",
      "        Number of Visual Observations (per agent): 0\n",
      "        Vector Observation space type: continuous\n",
      "        Vector Observation space size (per agent): 8\n",
      "        Number of stacked Vector Observation: 3\n",
      "        Vector Action space type: continuous\n",
      "        Vector Action space size (per agent): 2\n",
      "        Vector Action descriptions: , \n"
     ]
    }
   ],
   "source": [
    "#!pip -q install ./python\n",
    "\n",
    "%config IPCompleter.greedy=True\n",
    "from unityagents import UnityEnvironment\n",
    "import numpy as np\n",
    "import random\n",
    "from datetime import datetime\n",
    "\n",
    "aws_unity_filename= './Tennis_Linux_NoVis/Tennis.x86_64'\n",
    "udacity_unity_filename= \"/data/Tennis_Linux_NoVis/Tennis\"\n",
    "laptop_unity_filename= './Tennis_Linux/Tennis.x86_64'\n",
    "seed= 0 \n",
    "env = UnityEnvironment(seed= seed, file_name= laptop_unity_filename)\n",
    "brain_name = env.brain_names[0]\n",
    "brain = env.brains[brain_name]\n",
    "\n",
    "#Handy functions to help understand the code\n",
    "def env_reset(train=True):\n",
    "    env_info = env.reset(train_mode= train)[env.brain_names[0]]\n",
    "    return env_info.vector_observations\n",
    "\n",
    "def env_step(action):\n",
    "    env_info= env.step(action)[env.brain_names[0]]\n",
    "    return env_info.vector_observations, env_info.rewards, env_info.local_done\n",
    "\n",
    "def env_size():\n",
    "    env_info = env.reset(train_mode= False)[env.brain_names[0]]\n",
    "    state_size= env_info.vector_observations.shape[1]\n",
    "    action_size= brain.vector_action_space_size\n",
    "    num_agents= len(env_info.agents)\n",
    "    return state_size, action_size, num_agents\n",
    "\n",
    "def new_seed():\n",
    "    seed= datetime.now().second\n",
    "    random.seed(seed)\n",
    "    torch.manual_seed(seed)"
   ]
  },
  {
   "cell_type": "markdown",
   "metadata": {},
   "source": [
    "### 2.- Training"
   ]
  },
  {
   "cell_type": "code",
   "execution_count": 2,
   "metadata": {},
   "outputs": [
    {
     "name": "stdout",
     "output_type": "stream",
     "text": [
      "Episode 100\tAverage Score: 0.02   \n",
      "Episode 200\tAverage Score: 0.06   \n",
      "Episode 300\tAverage Score: 0.06   \n",
      "Episode 400\tAverage Score: 0.02   \n",
      "Episode 500\tAverage Score: 0.03   \n",
      "Episode 600\tAverage Score: 0.09   \n",
      "Episode 700\tAverage Score: 0.09   \n",
      "Episode 800\tAverage Score: 0.12   \n",
      "Episode 894\tAverage Score: 0.52   \n",
      "Environment solved in 794 episodes!\tAverage Score: 0.52\n"
     ]
    },
    {
     "data": {
      "image/png": "[encoded data removed]",
      "text/plain": [
       "<Figure size 432x288 with 1 Axes>"
      ]
     },
     "metadata": {
      "needs_background": "light"
     },
     "output_type": "display_data"
    }
   ],
   "source": [
    "import matplotlib.pyplot as plt\n",
    "%matplotlib inline\n",
    "import torch\n",
    "\n",
    "from collections import deque\n",
    "from datetime import datetime\n",
    "\n",
    "from ddpg import DDPG\n",
    "from agents import Agents\n",
    "\n",
    "NUM_EPISODES = 2000\n",
    "SOLVED_CONDITION= 0.5\n",
    "\n",
    "# Hyperparameters\n",
    "config= {\n",
    "    \"seed\": seed,\n",
    "    \"actor_lr\": 1e-3,\n",
    "    \"critic_lr\": 1e-3,\n",
    "    \"actor_nodes\": [32, 32],\n",
    "    \"critic_nodes\": [256, 256],\n",
    "    \"batch_size\": 256,\n",
    "    \"memory_size\": 100000,\n",
    "    \"discount\": 0.9,\n",
    "    \"tau\": 1e-3,\n",
    "    \"critic_l2_reg\": 0.0,  # 1e-2\n",
    "    \"action_noise\": \"Param\",    # Options: No, Normal, OU, Param\n",
    "    \"sigma\": 0.1,            # OUNoise, Normal\n",
    "    \"experience\": \"all\",     # Options: self, all\n",
    "    \"multi-agent\": False,\n",
    "}\n",
    "\n",
    "state_size, action_size, num_agents= env_size()\n",
    "agents= Agents(state_size, action_size, num_agents, config= config)\n",
    "\n",
    "scores_window = deque(maxlen=100)\n",
    "solved_in= 0\n",
    "\n",
    "\n",
    "for episode in range(NUM_EPISODES):\n",
    "    states= env_reset(True)\n",
    "    agents.reset()\n",
    "    score = np.zeros(num_agents)\n",
    "    \n",
    "    while True:\n",
    "        actions= agents.act(states)    # Agent action. Include noise\n",
    "        next_states, rewards, dones= env_step(actions)   # Environmet step\n",
    "        agents.step(states, actions, rewards, next_states, dones)\n",
    "        \n",
    "        score+= rewards        # update the score\n",
    "        states= next_states     # roll over the state to next time step\n",
    "        if np.any(dones):              # exit loop if episode finished\n",
    "            break\n",
    "    \n",
    "    \n",
    "    max= np.max(score)\n",
    "    agents.update(max)          # Add score to agents and update param noise\n",
    "    scores_window.append(max)       \n",
    "    mean_w_scores= np.mean(scores_window)\n",
    "    print('\\rEpisode {}\\tAverage Score: {:.2f}   '.format(episode+ 1, mean_w_scores), end=\"\")\n",
    "    if (episode+ 1) % 100 == 0:\n",
    "        print('\\rEpisode {}\\tAverage Score: {:.2f}   '.format(episode+ 1, mean_w_scores))\n",
    "    if mean_w_scores >= SOLVED_CONDITION:\n",
    "        print('\\nEnvironment solved in {:d} episodes!\\tAverage Score: {:.2f}'.format((episode+ 1)-100, mean_w_scores))\n",
    "        solved_in= (episode+ 1)-100\n",
    "        break\n",
    "        \n",
    "agents.save(solved_in)\n",
    "        \n",
    "def running_mean(x, N):\n",
    "    cumsum = np.cumsum(np.insert(x, 0, 0)) \n",
    "    return (cumsum[N:] - cumsum[:-N]) / N \n",
    "\n",
    "smoothed_scores= running_mean(agents.scores, 10)\n",
    "plt.plot(np.arange(len(smoothed_scores)), smoothed_scores, linewidth= 3)\n",
    "plt.plot(np.arange(len(agents.scores)), agents.scores, color='grey', alpha=0.5)\n",
    "plt.xlabel('Episode')\n",
    "plt.ylabel('Reward')\n",
    "\n",
    "\n",
    "plt.show()\n"
   ]
  },
  {
   "cell_type": "markdown",
   "metadata": {},
   "source": [
    "### 3.- See how the agent behaves"
   ]
  },
  {
   "cell_type": "code",
   "execution_count": 3,
   "metadata": {},
   "outputs": [
    {
     "name": "stdout",
     "output_type": "stream",
     "text": [
      "Score: 2.6\n"
     ]
    }
   ],
   "source": [
    "\n",
    "state_size, action_size, num_agents= env_size()\n",
    "\n",
    "agents= Agents(state_size, action_size, num_agents, config= config)\n",
    "\n",
    "agents.load()\n",
    "agents.eval()\n",
    "\n",
    "states= env_reset(train=False)\n",
    "\n",
    "score = np.zeros(num_agents)                       # initialize the score\n",
    "while True:\n",
    "    actions= agents.act(states, False)\n",
    "    next_states, rewards, dones= env_step(actions)\n",
    "    score += rewards                                # update the score\n",
    "    states= next_states   \n",
    "    if np.any(dones):                                       # exit loop if episode finished\n",
    "        break\n",
    "    \n",
    "print(\"Score: {:.1f}\".format(np.max(score)))\n"
   ]
  },
  {
   "cell_type": "code",
   "execution_count": null,
   "metadata": {},
   "outputs": [],
   "source": []
  }
 ],
 "metadata": {
  "kernelspec": {
   "display_name": "Python 3",
   "language": "python",
   "name": "python3"
  },
  "language_info": {
   "codemirror_mode": {
    "name": "ipython",
    "version": 3
   },
   "file_extension": ".py",
   "mimetype": "text/x-python",
   "name": "python",
   "nbconvert_exporter": "python",
   "pygments_lexer": "ipython3",
   "version": "3.5.6"
  }
 },
 "nbformat": 4,
 "nbformat_minor": 2
}
