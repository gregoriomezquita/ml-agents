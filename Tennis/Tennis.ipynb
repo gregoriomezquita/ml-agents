{
 "cells": [
  {
   "cell_type": "markdown",
   "metadata": {},
   "source": [
    "# Tennis: Collaboration and Competition\n",
    "\n",
    "---"
   ]
  },
  {
   "cell_type": "markdown",
   "metadata": {},
   "source": [
    "### 1.- Setting the environment"
   ]
  },
  {
   "cell_type": "code",
   "execution_count": 1,
   "metadata": {},
   "outputs": [
    {
     "name": "stderr",
     "output_type": "stream",
     "text": [
      "INFO:unityagents:\n",
      "'Academy' started successfully!\n",
      "Unity Academy name: Academy\n",
      "        Number of Brains: 1\n",
      "        Number of External Brains : 1\n",
      "        Lesson number : 0\n",
      "        Reset Parameters :\n",
      "\t\t\n",
      "Unity brain name: TennisBrain\n",
      "        Number of Visual Observations (per agent): 0\n",
      "        Vector Observation space type: continuous\n",
      "        Vector Observation space size (per agent): 8\n",
      "        Number of stacked Vector Observation: 3\n",
      "        Vector Action space type: continuous\n",
      "        Vector Action space size (per agent): 2\n",
      "        Vector Action descriptions: , \n"
     ]
    }
   ],
   "source": [
    "%config IPCompleter.greedy=True\n",
    "from unityagents import UnityEnvironment\n",
    "import numpy as np\n",
    "from datetime import datetime\n",
    "\n",
    "aws_unity_filename= './Tennis_Linux_NoVis/Tennis.x86_64'\n",
    "laptop_unity_filename= './Tennis_Linux/Tennis.x86_64'\n",
    "seed= 0 #datetime.now().second\n",
    "env = UnityEnvironment(seed= seed, file_name= laptop_unity_filename)\n",
    "brain_name = env.brain_names[0]\n",
    "brain = env.brains[brain_name]\n",
    "\n",
    "#Handy functions to help understand the code\n",
    "def env_reset(env, train=True):\n",
    "    env_info = env.reset(train_mode= train)[env.brain_names[0]]\n",
    "    return env_info.vector_observations, len(env_info.agents)\n",
    "\n",
    "def env_step(env, action):\n",
    "    env_info= env.step(action)[env.brain_names[0]]\n",
    "    return env_info.vector_observations, env_info.rewards, env_info.local_done"
   ]
  },
  {
   "cell_type": "markdown",
   "metadata": {},
   "source": [
    "### 2.- Agents definition"
   ]
  },
  {
   "cell_type": "code",
   "execution_count": 2,
   "metadata": {},
   "outputs": [],
   "source": [
    "import torch\n",
    "from torch.autograd import Variable\n",
    "from glob import glob\n",
    "import re\n",
    "import math\n",
    "\n",
    "from ddpg import DDPG\n",
    "\n",
    "class Agents:\n",
    "    def __init__(self, num_agents=1, config= None):\n",
    "        if not config: \n",
    "            raise OSError('DDPG: no configuration parameter in class init')\n",
    "        self.config= config\n",
    "        self.num_agents= num_agents\n",
    "        self.agents= []\n",
    "        self.scores= []\n",
    "        for i in range(num_agents):\n",
    "            self.agents.append( DDPG(config= config) )\n",
    "    \n",
    "    def reset(self):\n",
    "        for agent in self.agents: \n",
    "            agent.reset()\n",
    "            \n",
    "    def act(self, states, train= True):\n",
    "        actions= np.array([])\n",
    "        for i, agent in zip(range(self.num_agents), self.agents):\n",
    "            actions= np.append(actions, agent.act( states[i], train ) )\n",
    "        return actions\n",
    "    \n",
    "    def step(self, state, action, reward, next_state, done):\n",
    "        # states and action are numpy arrays while reward and done are lists\n",
    "        # Single experience replay\n",
    "        \"\"\"\n",
    "        for i, agent in zip(range(self.num_agents), self.agents):\n",
    "            action_size= agent.action_size\n",
    "            agent.step(state[i], action[action_size*i:(action_size*i)+action_size], reward[i], next_state[i], done[i])\n",
    "        \"\"\"\n",
    "        # Combined experience replay\n",
    "        for agent in self.agents:\n",
    "            for i in range(self.num_agents):\n",
    "                s= slice(agent.action_size*i, (agent.action_size*i)+ agent.action_size)\n",
    "                agent.memory.add(state[i], action[s], reward[i], next_state[i], done[i])\n",
    "            if len(agent.memory) >= agent.batch_size:\n",
    "                agent.learn()\n",
    "            \n",
    "    def update(self, score):\n",
    "        self.scores.append(score)\n",
    "        if (len(self.scores)> 0) and (score > np.max(self.scores)):    # Save actors for best score\n",
    "            for i, agent in zip(range(self.num_agents), self.agents):\n",
    "                torch.save(agent.actor.state_dict(), \"last_actor_{}.pth\".format(i+ 1))\n",
    "        \"\"\"\n",
    "        # Update agent\n",
    "        if not self.config[\"param_noise\"]: return 0.0\n",
    "        dists= []\n",
    "        for agent in self.agents:\n",
    "            #agent.update()\n",
    "            #states, perturbed_actions= agent.action_memory.pop()\n",
    "            states, perturbed_actions, _, _, _= agent.memory.sample(1024)\n",
    "            #states, perturbed_actions, _, _, _= agent.memory.get(agent.steps * self.num_agents)\n",
    "            #states, perturbed_actions, _, _, _= agent.memory.get(1024)\n",
    "            unperturbed_actions = agent.act(states, False)\n",
    "            ddpg_dist = agent.param_noise.distance(perturbed_actions.numpy(), unperturbed_actions)\n",
    "            \n",
    "            agent.param_noise.adapt(ddpg_dist)\n",
    "            dists.append(ddpg_dist)\n",
    "            \n",
    "        return np.mean(dists)\n",
    "        \"\"\"\n",
    "                                      \n",
    "    def save(self):\n",
    "        data= {\"config\": self.config, \"scores\": self.scores,}\n",
    "        fname= \"./{}_\".format(self.__class__.__name__)\n",
    "        last_index= 1\n",
    "        files= sorted(glob(\"{}*.data\".format(fname)))\n",
    "        if files:\n",
    "            last= files[-1]\n",
    "            if last: \n",
    "                last_index= int(re.findall('[0-9]+', last, flags=re.IGNORECASE)[0])\n",
    "                last_index+= 1\n",
    "        filename= \"{}{}.data\".format(fname, last_index)\n",
    "        torch.save(data, filename)\n",
    "        # Last actor for all agents\n",
    "        for i, agent in zip(range(self.num_agents), self.agents):\n",
    "            torch.save(agent.actor.state_dict(), \"last_actor_{}.pth\".format(i+ 1))\n",
    "            \n",
    "    def load(self):\n",
    "        for i, agent in zip(range(self.num_agents), self.agents):\n",
    "            model= torch.load(\"last_actor_{}.pth\".format(i+ 1), map_location=lambda storage, loc: storage)\n",
    "            agent.actor.load_state_dict(model)\n",
    "        \n",
    "    def eval(self):\n",
    "        for agent in self.agents:\n",
    "            agent.actor.eval() \n"
   ]
  },
  {
   "cell_type": "markdown",
   "metadata": {},
   "source": [
    "### 3.- Training"
   ]
  },
  {
   "cell_type": "code",
   "execution_count": 3,
   "metadata": {},
   "outputs": [
    {
     "name": "stdout",
     "output_type": "stream",
     "text": [
      "Episode 100\tAverage Score: 0.04   \n",
      "Episode 200\tAverage Score: 0.03   \n",
      "Episode 300\tAverage Score: 0.04   \n",
      "Episode 400\tAverage Score: 0.07   \n",
      "Episode 500\tAverage Score: 0.11   \n",
      "Episode 576\tAverage Score: 0.50   \n",
      "Environment solved in 476 episodes!\tAverage Score: 0.50\n"
     ]
    },
    {
     "data": {
      "image/png": "[encoded data removed]",
      "text/plain": [
       "<Figure size 432x288 with 1 Axes>"
      ]
     },
     "metadata": {
      "needs_background": "light"
     },
     "output_type": "display_data"
    },
    {
     "name": "stdout",
     "output_type": "stream",
     "text": [
      "Elapsed time 0:20:51.439946\n"
     ]
    }
   ],
   "source": [
    "import matplotlib.pyplot as plt\n",
    "%matplotlib inline\n",
    "import torch\n",
    "\n",
    "from collections import deque\n",
    "from datetime import datetime\n",
    "\n",
    "from ddpg import DDPG\n",
    "\n",
    "NUM_EPISODES = 3000\n",
    "SOLVED_IN= 0.5\n",
    "\n",
    "start= datetime.now()\n",
    "\n",
    "states, num_agents= env_reset(env, True)\n",
    "\n",
    "# Hyperparameters\n",
    "config= {\n",
    "    \"label\": \"Noisy layerNorm copy\",\n",
    "    \"state_size\": states.shape[1],\n",
    "    \"action_size\": brain.vector_action_space_size,\n",
    "    \"seed\": seed,\n",
    "    \"actor_lr\": 1e-3,\n",
    "    \"critic_lr\": 1e-3,\n",
    "    \"actor_nodes\": [32, 32],\n",
    "    \"critic_nodes\": [128, 128],\n",
    "    \"batch_size\": 256,\n",
    "    \"memory_size\": 100000,\n",
    "    \"discount\": 0.9,\n",
    "    \"tau\": 0.001,\n",
    "    \"action_noise\": \"No\",    # Options: No, Normal, OU, \n",
    "    \"sigma\": 0.1,            # OUNoise, Normal\n",
    "    #\"param_noise\": True,\n",
    "    #\"noise_scale\": 0.3,      # initial noise scale for param noise (default: 0.3)\n",
    "    \"critic_l2_reg\": 0.0,  # 1e-2\n",
    "}\n",
    "\n",
    "\n",
    "scores_window = deque(maxlen=100)\n",
    "                     \n",
    "agents= Agents(num_agents, config= config)\n",
    "\n",
    "for episode in range(NUM_EPISODES):\n",
    "    states, _= env_reset(env, True)\n",
    "    agents.reset()\n",
    "    score = np.zeros(num_agents)\n",
    "    \n",
    "    while True:\n",
    "        actions= agents.act(states)    # Agent action. Include noise\n",
    "        next_states, rewards, dones= env_step(env, actions)   # Environmet step\n",
    "        # Agent step. Includes learnig from memory\n",
    "        agents.step(states, actions, rewards, next_states, dones)\n",
    "        \n",
    "        score+= rewards        # update the score\n",
    "        states= next_states     # roll over the state to next time step\n",
    "        if np.any(dones):              # exit loop if episode finished\n",
    "            break\n",
    "    \n",
    "    \n",
    "    max= np.max(score)\n",
    "    agents.update(max)          # Add score to agents and update param noise\n",
    "    scores_window.append(max)       \n",
    "    mean_w_scores= np.mean(scores_window)\n",
    "    print('\\rEpisode {}\\tAverage Score: {:.2f}   '.format(episode+ 1, mean_w_scores), end=\"\")\n",
    "    if (episode+ 1) % 100 == 0:\n",
    "        print('\\rEpisode {}\\tAverage Score: {:.2f}   '.format(episode+ 1, mean_w_scores))\n",
    "    if mean_w_scores >= SOLVED_IN:\n",
    "        print('\\nEnvironment solved in {:d} episodes!\\tAverage Score: {:.2f}'.format((episode+ 1)-100, mean_w_scores))\n",
    "        break\n",
    "    \n",
    "        \n",
    "agents.save()\n",
    "\n",
    "\n",
    "        \n",
    "def running_mean(x, N):\n",
    "    cumsum = np.cumsum(np.insert(x, 0, 0)) \n",
    "    return (cumsum[N:] - cumsum[:-N]) / N \n",
    "\n",
    "smoothed_scores= running_mean(agents.scores, 10)\n",
    "plt.plot(np.arange(len(smoothed_scores)), smoothed_scores)\n",
    "plt.plot(np.arange(len(agents.scores)), agents.scores, color='grey', alpha=0.5)\n",
    "plt.xlabel('Episode')\n",
    "plt.ylabel('Reward')\n",
    "\n",
    "\n",
    "plt.show()\n",
    "print('Elapsed time', datetime.now()- start)"
   ]
  },
  {
   "cell_type": "markdown",
   "metadata": {},
   "source": [
    "### 4.- See how the agent behaves"
   ]
  },
  {
   "cell_type": "code",
   "execution_count": 4,
   "metadata": {},
   "outputs": [
    {
     "ename": "RuntimeError",
     "evalue": "Error(s) in loading state_dict for Actor:\n\tWhile copying the parameter named \"model.1.bias_sigma\", whose dimensions in the model are torch.Size([128]) and whose dimensions in the checkpoint are torch.Size([32]).\n\tWhile copying the parameter named \"model.1.bias_epsilon\", whose dimensions in the model are torch.Size([128]) and whose dimensions in the checkpoint are torch.Size([32]).\n\tWhile copying the parameter named \"model.1.bias_mu\", whose dimensions in the model are torch.Size([128]) and whose dimensions in the checkpoint are torch.Size([32]).\n\tWhile copying the parameter named \"model.1.weight_epsilon\", whose dimensions in the model are torch.Size([128, 24]) and whose dimensions in the checkpoint are torch.Size([32, 24]).\n\tWhile copying the parameter named \"model.1.weight_sigma\", whose dimensions in the model are torch.Size([128, 24]) and whose dimensions in the checkpoint are torch.Size([32, 24]).\n\tWhile copying the parameter named \"model.1.weight_mu\", whose dimensions in the model are torch.Size([128, 24]) and whose dimensions in the checkpoint are torch.Size([32, 24]).\n\tWhile copying the parameter named \"model.3.running_mean\", whose dimensions in the model are torch.Size([128]) and whose dimensions in the checkpoint are torch.Size([32]).\n\tWhile copying the parameter named \"model.3.running_var\", whose dimensions in the model are torch.Size([128]) and whose dimensions in the checkpoint are torch.Size([32]).\n\tWhile copying the parameter named \"model.3.weight\", whose dimensions in the model are torch.Size([128]) and whose dimensions in the checkpoint are torch.Size([32]).\n\tWhile copying the parameter named \"model.3.bias\", whose dimensions in the model are torch.Size([128]) and whose dimensions in the checkpoint are torch.Size([32]).\n\tWhile copying the parameter named \"model.4.bias_sigma\", whose dimensions in the model are torch.Size([128]) and whose dimensions in the checkpoint are torch.Size([32]).\n\tWhile copying the parameter named \"model.4.bias_epsilon\", whose dimensions in the model are torch.Size([128]) and whose dimensions in the checkpoint are torch.Size([32]).\n\tWhile copying the parameter named \"model.4.bias_mu\", whose dimensions in the model are torch.Size([128]) and whose dimensions in the checkpoint are torch.Size([32]).\n\tWhile copying the parameter named \"model.4.weight_epsilon\", whose dimensions in the model are torch.Size([128, 128]) and whose dimensions in the checkpoint are torch.Size([32, 32]).\n\tWhile copying the parameter named \"model.4.weight_sigma\", whose dimensions in the model are torch.Size([128, 128]) and whose dimensions in the checkpoint are torch.Size([32, 32]).\n\tWhile copying the parameter named \"model.4.weight_mu\", whose dimensions in the model are torch.Size([128, 128]) and whose dimensions in the checkpoint are torch.Size([32, 32]).\n\tWhile copying the parameter named \"model.6.running_mean\", whose dimensions in the model are torch.Size([128]) and whose dimensions in the checkpoint are torch.Size([32]).\n\tWhile copying the parameter named \"model.6.running_var\", whose dimensions in the model are torch.Size([128]) and whose dimensions in the checkpoint are torch.Size([32]).\n\tWhile copying the parameter named \"model.6.weight\", whose dimensions in the model are torch.Size([128]) and whose dimensions in the checkpoint are torch.Size([32]).\n\tWhile copying the parameter named \"model.6.bias\", whose dimensions in the model are torch.Size([128]) and whose dimensions in the checkpoint are torch.Size([32]).\n\tWhile copying the parameter named \"model.7.weight_epsilon\", whose dimensions in the model are torch.Size([2, 128]) and whose dimensions in the checkpoint are torch.Size([2, 32]).\n\tWhile copying the parameter named \"model.7.weight_sigma\", whose dimensions in the model are torch.Size([2, 128]) and whose dimensions in the checkpoint are torch.Size([2, 32]).\n\tWhile copying the parameter named \"model.7.weight_mu\", whose dimensions in the model are torch.Size([2, 128]) and whose dimensions in the checkpoint are torch.Size([2, 32]).",
     "output_type": "error",
     "traceback": [
      "\u001b[0;31m---------------------------------------------------------------------------\u001b[0m",
      "\u001b[0;31mRuntimeError\u001b[0m                              Traceback (most recent call last)",
      "\u001b[0;32m<ipython-input-4-91e452bc75c5>\u001b[0m in \u001b[0;36m<module>\u001b[0;34m()\u001b[0m\n\u001b[1;32m     19\u001b[0m \u001b[0magents\u001b[0m\u001b[0;34m=\u001b[0m \u001b[0mAgents\u001b[0m\u001b[0;34m(\u001b[0m\u001b[0mnum_agents\u001b[0m\u001b[0;34m,\u001b[0m \u001b[0mconfig\u001b[0m\u001b[0;34m=\u001b[0m \u001b[0mconfig\u001b[0m\u001b[0;34m)\u001b[0m\u001b[0;34m\u001b[0m\u001b[0m\n\u001b[1;32m     20\u001b[0m \u001b[0;34m\u001b[0m\u001b[0m\n\u001b[0;32m---> 21\u001b[0;31m \u001b[0magents\u001b[0m\u001b[0;34m.\u001b[0m\u001b[0mload\u001b[0m\u001b[0;34m(\u001b[0m\u001b[0;34m)\u001b[0m\u001b[0;34m\u001b[0m\u001b[0m\n\u001b[0m\u001b[1;32m     22\u001b[0m \u001b[0magents\u001b[0m\u001b[0;34m.\u001b[0m\u001b[0meval\u001b[0m\u001b[0;34m(\u001b[0m\u001b[0;34m)\u001b[0m\u001b[0;34m\u001b[0m\u001b[0m\n\u001b[1;32m     23\u001b[0m \u001b[0;34m\u001b[0m\u001b[0m\n",
      "\u001b[0;32m<ipython-input-2-d1e3c924e33a>\u001b[0m in \u001b[0;36mload\u001b[0;34m(self)\u001b[0m\n\u001b[1;32m     87\u001b[0m         \u001b[0;32mfor\u001b[0m \u001b[0mi\u001b[0m\u001b[0;34m,\u001b[0m \u001b[0magent\u001b[0m \u001b[0;32min\u001b[0m \u001b[0mzip\u001b[0m\u001b[0;34m(\u001b[0m\u001b[0mrange\u001b[0m\u001b[0;34m(\u001b[0m\u001b[0mself\u001b[0m\u001b[0;34m.\u001b[0m\u001b[0mnum_agents\u001b[0m\u001b[0;34m)\u001b[0m\u001b[0;34m,\u001b[0m \u001b[0mself\u001b[0m\u001b[0;34m.\u001b[0m\u001b[0magents\u001b[0m\u001b[0;34m)\u001b[0m\u001b[0;34m:\u001b[0m\u001b[0;34m\u001b[0m\u001b[0m\n\u001b[1;32m     88\u001b[0m             \u001b[0mmodel\u001b[0m\u001b[0;34m=\u001b[0m \u001b[0mtorch\u001b[0m\u001b[0;34m.\u001b[0m\u001b[0mload\u001b[0m\u001b[0;34m(\u001b[0m\u001b[0;34m\"last_actor_{}.pth\"\u001b[0m\u001b[0;34m.\u001b[0m\u001b[0mformat\u001b[0m\u001b[0;34m(\u001b[0m\u001b[0mi\u001b[0m\u001b[0;34m+\u001b[0m \u001b[0;36m1\u001b[0m\u001b[0;34m)\u001b[0m\u001b[0;34m,\u001b[0m \u001b[0mmap_location\u001b[0m\u001b[0;34m=\u001b[0m\u001b[0;32mlambda\u001b[0m \u001b[0mstorage\u001b[0m\u001b[0;34m,\u001b[0m \u001b[0mloc\u001b[0m\u001b[0;34m:\u001b[0m \u001b[0mstorage\u001b[0m\u001b[0;34m)\u001b[0m\u001b[0;34m\u001b[0m\u001b[0m\n\u001b[0;32m---> 89\u001b[0;31m             \u001b[0magent\u001b[0m\u001b[0;34m.\u001b[0m\u001b[0mactor\u001b[0m\u001b[0;34m.\u001b[0m\u001b[0mload_state_dict\u001b[0m\u001b[0;34m(\u001b[0m\u001b[0mmodel\u001b[0m\u001b[0;34m)\u001b[0m\u001b[0;34m\u001b[0m\u001b[0m\n\u001b[0m\u001b[1;32m     90\u001b[0m \u001b[0;34m\u001b[0m\u001b[0m\n\u001b[1;32m     91\u001b[0m     \u001b[0;32mdef\u001b[0m \u001b[0meval\u001b[0m\u001b[0;34m(\u001b[0m\u001b[0mself\u001b[0m\u001b[0;34m)\u001b[0m\u001b[0;34m:\u001b[0m\u001b[0;34m\u001b[0m\u001b[0m\n",
      "\u001b[0;32m~/miniconda3/envs/drlnd/lib/python3.5/site-packages/torch/nn/modules/module.py\u001b[0m in \u001b[0;36mload_state_dict\u001b[0;34m(self, state_dict, strict)\u001b[0m\n\u001b[1;32m    719\u001b[0m         \u001b[0;32mif\u001b[0m \u001b[0mlen\u001b[0m\u001b[0;34m(\u001b[0m\u001b[0merror_msgs\u001b[0m\u001b[0;34m)\u001b[0m \u001b[0;34m>\u001b[0m \u001b[0;36m0\u001b[0m\u001b[0;34m:\u001b[0m\u001b[0;34m\u001b[0m\u001b[0m\n\u001b[1;32m    720\u001b[0m             raise RuntimeError('Error(s) in loading state_dict for {}:\\n\\t{}'.format(\n\u001b[0;32m--> 721\u001b[0;31m                                self.__class__.__name__, \"\\n\\t\".join(error_msgs)))\n\u001b[0m\u001b[1;32m    722\u001b[0m \u001b[0;34m\u001b[0m\u001b[0m\n\u001b[1;32m    723\u001b[0m     \u001b[0;32mdef\u001b[0m \u001b[0mparameters\u001b[0m\u001b[0;34m(\u001b[0m\u001b[0mself\u001b[0m\u001b[0;34m)\u001b[0m\u001b[0;34m:\u001b[0m\u001b[0;34m\u001b[0m\u001b[0m\n",
      "\u001b[0;31mRuntimeError\u001b[0m: Error(s) in loading state_dict for Actor:\n\tWhile copying the parameter named \"model.1.bias_sigma\", whose dimensions in the model are torch.Size([128]) and whose dimensions in the checkpoint are torch.Size([32]).\n\tWhile copying the parameter named \"model.1.bias_epsilon\", whose dimensions in the model are torch.Size([128]) and whose dimensions in the checkpoint are torch.Size([32]).\n\tWhile copying the parameter named \"model.1.bias_mu\", whose dimensions in the model are torch.Size([128]) and whose dimensions in the checkpoint are torch.Size([32]).\n\tWhile copying the parameter named \"model.1.weight_epsilon\", whose dimensions in the model are torch.Size([128, 24]) and whose dimensions in the checkpoint are torch.Size([32, 24]).\n\tWhile copying the parameter named \"model.1.weight_sigma\", whose dimensions in the model are torch.Size([128, 24]) and whose dimensions in the checkpoint are torch.Size([32, 24]).\n\tWhile copying the parameter named \"model.1.weight_mu\", whose dimensions in the model are torch.Size([128, 24]) and whose dimensions in the checkpoint are torch.Size([32, 24]).\n\tWhile copying the parameter named \"model.3.running_mean\", whose dimensions in the model are torch.Size([128]) and whose dimensions in the checkpoint are torch.Size([32]).\n\tWhile copying the parameter named \"model.3.running_var\", whose dimensions in the model are torch.Size([128]) and whose dimensions in the checkpoint are torch.Size([32]).\n\tWhile copying the parameter named \"model.3.weight\", whose dimensions in the model are torch.Size([128]) and whose dimensions in the checkpoint are torch.Size([32]).\n\tWhile copying the parameter named \"model.3.bias\", whose dimensions in the model are torch.Size([128]) and whose dimensions in the checkpoint are torch.Size([32]).\n\tWhile copying the parameter named \"model.4.bias_sigma\", whose dimensions in the model are torch.Size([128]) and whose dimensions in the checkpoint are torch.Size([32]).\n\tWhile copying the parameter named \"model.4.bias_epsilon\", whose dimensions in the model are torch.Size([128]) and whose dimensions in the checkpoint are torch.Size([32]).\n\tWhile copying the parameter named \"model.4.bias_mu\", whose dimensions in the model are torch.Size([128]) and whose dimensions in the checkpoint are torch.Size([32]).\n\tWhile copying the parameter named \"model.4.weight_epsilon\", whose dimensions in the model are torch.Size([128, 128]) and whose dimensions in the checkpoint are torch.Size([32, 32]).\n\tWhile copying the parameter named \"model.4.weight_sigma\", whose dimensions in the model are torch.Size([128, 128]) and whose dimensions in the checkpoint are torch.Size([32, 32]).\n\tWhile copying the parameter named \"model.4.weight_mu\", whose dimensions in the model are torch.Size([128, 128]) and whose dimensions in the checkpoint are torch.Size([32, 32]).\n\tWhile copying the parameter named \"model.6.running_mean\", whose dimensions in the model are torch.Size([128]) and whose dimensions in the checkpoint are torch.Size([32]).\n\tWhile copying the parameter named \"model.6.running_var\", whose dimensions in the model are torch.Size([128]) and whose dimensions in the checkpoint are torch.Size([32]).\n\tWhile copying the parameter named \"model.6.weight\", whose dimensions in the model are torch.Size([128]) and whose dimensions in the checkpoint are torch.Size([32]).\n\tWhile copying the parameter named \"model.6.bias\", whose dimensions in the model are torch.Size([128]) and whose dimensions in the checkpoint are torch.Size([32]).\n\tWhile copying the parameter named \"model.7.weight_epsilon\", whose dimensions in the model are torch.Size([2, 128]) and whose dimensions in the checkpoint are torch.Size([2, 32]).\n\tWhile copying the parameter named \"model.7.weight_sigma\", whose dimensions in the model are torch.Size([2, 128]) and whose dimensions in the checkpoint are torch.Size([2, 32]).\n\tWhile copying the parameter named \"model.7.weight_mu\", whose dimensions in the model are torch.Size([2, 128]) and whose dimensions in the checkpoint are torch.Size([2, 32])."
     ]
    }
   ],
   "source": [
    "states, num_agents= env_reset(env, False)\n",
    "\n",
    "config= {\n",
    "    \"label\": \"Noise\",\n",
    "    \"state_size\": states.shape[1],\n",
    "    \"action_size\": brain.vector_action_space_size,\n",
    "    \"seed\": seed,\n",
    "    \"actor_lr\": 0.001,\n",
    "    \"critic_lr\": 0.001,\n",
    "    \"actor_nodes\": [128, 128],\n",
    "    \"critic_nodes\": [128, 128],\n",
    "    \"batch_size\": 512,\n",
    "    \"memory_size\": 100000,\n",
    "    \"discount\": 0.9,\n",
    "    \"sigma\": 0.1, # OUNoise\n",
    "    \"tau\": 0.001,\n",
    "}\n",
    "\n",
    "agents= Agents(num_agents, config= config)\n",
    "\n",
    "agents.load()\n",
    "agents.eval()\n",
    "\n",
    "score = np.zeros(num_agents)                       # initialize the score\n",
    "while True:\n",
    "    #print(type(states), states)\n",
    "    actions= agents.act(states, False)\n",
    "    #agents.eval()\n",
    "    next_states, rewards, dones= env_step(env, actions)\n",
    "    score += rewards                                # update the score\n",
    "    states= next_states   \n",
    "    if np.any(dones):                                       # exit loop if episode finished\n",
    "        break\n",
    "    \n",
    "print(\"\\rFinal score: {:.1f}\".format(np.max(score)))"
   ]
  },
  {
   "cell_type": "markdown",
   "metadata": {},
   "source": [
    "### Explore directory"
   ]
  },
  {
   "cell_type": "code",
   "execution_count": null,
   "metadata": {},
   "outputs": [],
   "source": [
    "from glob import glob\n",
    "import torch\n",
    "import numpy as np\n",
    "import matplotlib.pyplot as plt\n",
    "%matplotlib inline\n",
    "\n",
    "def running_mean(x, N):\n",
    "    cumsum = np.cumsum(np.insert(x, 0, 0)) \n",
    "    return (cumsum[N:] - cumsum[:-N]) / N\n",
    "\n",
    "\n",
    "plt.figure(figsize=(15, 6))\n",
    "\n",
    "files= glob(\"*.data\")\n",
    "\n",
    "for file in sorted(glob(\"*.data\")):\n",
    "    data= torch.load(file)\n",
    "    scores= data[\"scores\"]\n",
    "    smoothed_scores= running_mean(scores, 10)\n",
    "    # Label\n",
    "    # Label\n",
    "    label= \"Critic lr: \"\n",
    "    if \"label\" in data[\"config\"]:\n",
    "        label= \"Sigma: {}\".format(data[\"config\"][\"sigma\"])\n",
    "    plt.plot(np.arange(len(smoothed_scores)), smoothed_scores, label= label)\n",
    "\n",
    "plt.legend(bbox_to_anchor=(1.01, 1), loc=2, borderaxespad=0.2)\n",
    "plt.xlabel('Episode')\n",
    "plt.ylabel('Reward')\n",
    "plt.show()"
   ]
  },
  {
   "cell_type": "code",
   "execution_count": null,
   "metadata": {},
   "outputs": [],
   "source": [
    "# Print models\n",
    "print(agents.agents[0].actor)\n",
    "print(agents.agents[0].critic)"
   ]
  },
  {
   "cell_type": "code",
   "execution_count": null,
   "metadata": {},
   "outputs": [],
   "source": []
  }
 ],
 "metadata": {
  "kernelspec": {
   "display_name": "Python 3",
   "language": "python",
   "name": "python3"
  },
  "language_info": {
   "codemirror_mode": {
    "name": "ipython",
    "version": 3
   },
   "file_extension": ".py",
   "mimetype": "text/x-python",
   "name": "python",
   "nbconvert_exporter": "python",
   "pygments_lexer": "ipython3",
   "version": "3.5.6"
  }
 },
 "nbformat": 4,
 "nbformat_minor": 2
}
