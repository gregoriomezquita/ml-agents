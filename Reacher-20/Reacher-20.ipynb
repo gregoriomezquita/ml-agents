{
 "cells": [
  {
   "cell_type": "markdown",
   "metadata": {},
   "source": [
    "# Reacher-20\n",
    "\n",
    "---\n",
    "\n",
    "You are welcome to use this coding environment to train your agent for the project.  Follow the instructions below to get started!\n",
    "\n",
    "### 1. Start the Environment\n",
    "\n",
    "Run the next code cell to install a few packages.  This line will take a few minutes to run!"
   ]
  },
  {
   "cell_type": "code",
   "execution_count": 1,
   "metadata": {},
   "outputs": [
    {
     "name": "stdout",
     "output_type": "stream",
     "text": [
      "Done.\n"
     ]
    }
   ],
   "source": [
    "!pip -q install ./python\n",
    "print(\"Done.\")"
   ]
  },
  {
   "cell_type": "markdown",
   "metadata": {},
   "source": [
    "The environments corresponding to both versions of the environment are already saved in the Workspace and can be accessed at the file paths provided below.  \n",
    "\n",
    "Please select one of the two options below for loading the environment."
   ]
  },
  {
   "cell_type": "code",
   "execution_count": null,
   "metadata": {},
   "outputs": [],
   "source": [
    "from unityagents import UnityEnvironment\n",
    "import numpy as np\n",
    "\n",
    "# select this option to load version 1 (with a single agent) of the environment\n",
    "# env = UnityEnvironment(file_name='/data/Reacher_One_Linux_NoVis/Reacher_One_Linux_NoVis.x86_64')\n",
    "\n",
    "# select this option to load version 2 (with 20 agents) of the environment\n",
    "env = UnityEnvironment(file_name='/data/Reacher_Linux_NoVis/Reacher.x86_64')"
   ]
  },
  {
   "cell_type": "markdown",
   "metadata": {},
   "source": [
    "Environments contain **_brains_** which are responsible for deciding the actions of their associated agents. Here we check for the first brain available, and set it as the default brain we will be controlling from Python."
   ]
  },
  {
   "cell_type": "code",
   "execution_count": null,
   "metadata": {},
   "outputs": [],
   "source": [
    "# get the default brain\n",
    "brain_name = env.brain_names[0]\n",
    "brain = env.brains[brain_name]"
   ]
  },
  {
   "cell_type": "markdown",
   "metadata": {},
   "source": [
    "### 2. Examine the State and Action Spaces\n",
    "\n",
    "Run the code cell below to print some information about the environment."
   ]
  },
  {
   "cell_type": "code",
   "execution_count": null,
   "metadata": {},
   "outputs": [],
   "source": [
    "# reset the environment\n",
    "env_info = env.reset(train_mode=True)[brain_name]\n",
    "\n",
    "# number of agents\n",
    "num_agents = len(env_info.agents)\n",
    "print('Number of agents:', num_agents)\n",
    "\n",
    "# size of each action\n",
    "action_size = brain.vector_action_space_size\n",
    "print('Size of each action:', action_size)\n",
    "\n",
    "# examine the state space \n",
    "states = env_info.vector_observations\n",
    "state_size = states.shape[1]\n",
    "print('There are {} agents. Each observes a state with length: {}'.format(states.shape[0], state_size))\n",
    "print('The state for the first agent looks like:', states[0])"
   ]
  },
  {
   "cell_type": "markdown",
   "metadata": {},
   "source": [
    "### 3. Take Random Actions in the Environment\n",
    "\n",
    "In the next code cell, you will learn how to use the Python API to control the agent and receive feedback from the environment.\n",
    "\n",
    "Note that **in this coding environment, you will not be able to watch the agents while they are training**, and you should set `train_mode=True` to restart the environment."
   ]
  },
  {
   "cell_type": "code",
   "execution_count": null,
   "metadata": {},
   "outputs": [],
   "source": [
    "env_info = env.reset(train_mode=True)[brain_name]      # reset the environment    \n",
    "states = env_info.vector_observations                  # get the current state (for each agent)\n",
    "scores = np.zeros(num_agents)                          # initialize the score (for each agent)\n",
    "while True:\n",
    "    actions = np.random.randn(num_agents, action_size) # select an action (for each agent)\n",
    "    actions = np.clip(actions, -1, 1)                  # all actions between -1 and 1\n",
    "    env_info = env.step(actions)[brain_name]           # send all actions to tne environment\n",
    "    next_states = env_info.vector_observations         # get next state (for each agent)\n",
    "    rewards = env_info.rewards                         # get reward (for each agent)\n",
    "    dones = env_info.local_done                        # see if episode finished\n",
    "    scores += env_info.rewards                         # update the score (for each agent)\n",
    "    states = next_states                               # roll over states to next time step\n",
    "    if np.any(dones):                                  # exit loop if episode finished\n",
    "        break\n",
    "print('Total score (averaged over agents) this episode: {}'.format(np.mean(scores)))"
   ]
  },
  {
   "cell_type": "markdown",
   "metadata": {},
   "source": [
    "When finished, you can close the environment."
   ]
  },
  {
   "cell_type": "code",
   "execution_count": null,
   "metadata": {},
   "outputs": [],
   "source": [
    "env.close()"
   ]
  },
  {
   "cell_type": "markdown",
   "metadata": {},
   "source": [
    "### 4. It's Your Turn!\n",
    "\n",
    "Now it's your turn to train your own agent to solve the environment!  A few **important notes**:\n",
    "- When training the environment, set `train_mode=True`, so that the line for resetting the environment looks like the following:\n",
    "```python\n",
    "env_info = env.reset(train_mode=True)[brain_name]\n",
    "```\n",
    "- To structure your work, you're welcome to work directly in this Jupyter notebook, or you might like to start over with a new file!  You can see the list of files in the workspace by clicking on **_Jupyter_** in the top left corner of the notebook.\n",
    "- In this coding environment, you will not be able to watch the agents while they are training.  However, **_after training the agents_**, you can download the saved model weights to watch the agents on your own machine! "
   ]
  },
  {
   "cell_type": "markdown",
   "metadata": {},
   "source": [
    "### 1.- Setting the environment"
   ]
  },
  {
   "cell_type": "code",
   "execution_count": 3,
   "metadata": {},
   "outputs": [
    {
     "name": "stderr",
     "output_type": "stream",
     "text": [
      "INFO:unityagents:\n",
      "'Academy' started successfully!\n",
      "Unity Academy name: Academy\n",
      "        Number of Brains: 1\n",
      "        Number of External Brains : 1\n",
      "        Lesson number : 0\n",
      "        Reset Parameters :\n",
      "\t\tgoal_size -> 5.0\n",
      "\t\tgoal_speed -> 1.0\n",
      "Unity brain name: ReacherBrain\n",
      "        Number of Visual Observations (per agent): 0\n",
      "        Vector Observation space type: continuous\n",
      "        Vector Observation space size (per agent): 33\n",
      "        Number of stacked Vector Observation: 1\n",
      "        Vector Action space type: continuous\n",
      "        Vector Action space size (per agent): 4\n",
      "        Vector Action descriptions: , , , \n"
     ]
    }
   ],
   "source": [
    "%config IPCompleter.greedy=True\n",
    "from unityagents import UnityEnvironment\n",
    "import numpy as np\n",
    "\n",
    "aws_unity_filename= './Reacher_Linux_NoVis/Reacher.x86_64'\n",
    "udacity_unity_filename= '/data/Reacher_Linux_NoVis/Reacher.x86_64'\n",
    "laptop_unity_filename= './Reacher_Linux/Reacher.x86_64'\n",
    "seed= 0 #datetime.now().second\n",
    "env = UnityEnvironment(seed= seed, file_name= laptop_unity_filename)\n",
    "brain_name = env.brain_names[0]\n",
    "brain = env.brains[brain_name]\n",
    "\n",
    "#Handy functions to help understand the code\n",
    "def env_reset(env, train=True):\n",
    "    env_info = env.reset(train_mode= train)[env.brain_names[0]]\n",
    "    return env_info.vector_observations, len(env_info.agents)\n",
    "\n",
    "def env_step(env, action):\n",
    "    env_info= env.step(action)[env.brain_names[0]]\n",
    "    return env_info.vector_observations, env_info.rewards, env_info.local_done"
   ]
  },
  {
   "cell_type": "markdown",
   "metadata": {},
   "source": [
    "### 2.- Agents definition"
   ]
  },
  {
   "cell_type": "code",
   "execution_count": 7,
   "metadata": {},
   "outputs": [],
   "source": [
    "import torch\n",
    "from torch.autograd import Variable\n",
    "from glob import glob\n",
    "import re\n",
    "import math\n",
    "\n",
    "from ddpg import DDPG\n",
    "\n",
    "class Agents:\n",
    "    def __init__(self, num_agents=1, config= None):\n",
    "        if not config: \n",
    "            raise OSError('DDPG: no configuration parameter in class init')\n",
    "        self.config= config\n",
    "        self.action_size= config[\"action_size\"]\n",
    "        self.num_agents= num_agents\n",
    "        self.agent= DDPG(config= config)\n",
    "        self.scores= []\n",
    "    \n",
    "    def reset(self):\n",
    "        self.agent.reset()\n",
    "            \n",
    "    def act(self, states, noise= True):\n",
    "        actions = np.zeros((self.num_agents, self.action_size))\n",
    "        for i, state in enumerate(states):\n",
    "            action = self.agent.act(state, noise)\n",
    "            actions[i, :] = action\n",
    "        return actions\n",
    "    \n",
    "    def step(self, state, action, reward, next_state, done):\n",
    "        # states and action are numpy arrays while reward and done are lists\n",
    "        for i in range(self.num_agents):\n",
    "            self.agent.memory.add(state[i,:], action[i,:], reward[i], next_state[i,:], done[i])\n",
    "\n",
    "        # Learn, if enough samples are available in memory\n",
    "        if len(self.agent.memory) >= self.agent.batch_size:\n",
    "            self.agent.learn()\n",
    "            \n",
    "    def update(self, score):\n",
    "        if (len(self.scores)> 0) and (score > self.scores[-1]):    # Save actors for best score\n",
    "            torch.save(self.agent.actor.state_dict(), \"last_actor.pth\")\n",
    "        self.scores.append(score)\n",
    "        \n",
    "    \n",
    "    def save(self):\n",
    "        data= {\"config\": self.config, \"scores\": self.scores,}\n",
    "        fname= \"./{}_\".format(self.__class__.__name__)\n",
    "        last_index= 1\n",
    "        files= sorted(glob(\"{}*.data\".format(fname)))\n",
    "        if files:\n",
    "            last= files[-1]\n",
    "            if last: \n",
    "                last_index= int(re.findall('[0-9]+', last, flags=re.IGNORECASE)[0])\n",
    "                last_index+= 1\n",
    "        filename= \"{}{}.data\".format(fname, last_index)\n",
    "        torch.save(data, filename)\n",
    "            \n",
    "    def load(self):\n",
    "        model= torch.load(\"last_actor.pth\", map_location=lambda storage, loc: storage)\n",
    "        self.agent.actor.load_state_dict(model)\n",
    "        \n",
    "    def eval(self):\n",
    "        self.agent.actor.eval() \n"
   ]
  },
  {
   "cell_type": "markdown",
   "metadata": {},
   "source": [
    "### 3.- Training"
   ]
  },
  {
   "cell_type": "code",
   "execution_count": 6,
   "metadata": {},
   "outputs": [
    {
     "name": "stdout",
     "output_type": "stream",
     "text": [
      "Episode 100\tAverage Score: 24.79   \n",
      "Episode 115\tAverage Score: 30.17   \n",
      "Environment solved in 15 episodes!\tAverage Score: 30.17\n"
     ]
    },
    {
     "data": {
      "image/png": "[encoded data removed]",
      "text/plain": [
       "<matplotlib.figure.Figure at 0x7fe9e405e160>"
      ]
     },
     "metadata": {
      "needs_background": "light"
     },
     "output_type": "display_data"
    },
    {
     "name": "stdout",
     "output_type": "stream",
     "text": [
      "Elapsed time 0:57:30.579498\n"
     ]
    }
   ],
   "source": [
    "import matplotlib.pyplot as plt\n",
    "%matplotlib inline\n",
    "import torch\n",
    "\n",
    "from collections import deque\n",
    "from datetime import datetime\n",
    "\n",
    "from ddpg import DDPG\n",
    "\n",
    "NUM_EPISODES = 300\n",
    "SOLVED_IN= 30\n",
    "\n",
    "start= datetime.now()\n",
    "\n",
    "states, num_agents= env_reset(env, True)\n",
    "\n",
    "# Hyperparameters\n",
    "config= {\n",
    "    \"label\": \"Noisy layerNorm copy\",\n",
    "    \"state_size\": states.shape[1],\n",
    "    \"action_size\": brain.vector_action_space_size,\n",
    "    \"seed\": seed,\n",
    "    \"actor_lr\": 1e-3,\n",
    "    \"critic_lr\": 1e-3,\n",
    "    \"actor_nodes\": [32, 32],\n",
    "    \"critic_nodes\": [128, 128],\n",
    "    \"batch_size\": 256,\n",
    "    \"memory_size\": 100000,\n",
    "    \"discount\": 0.9,\n",
    "    \"tau\": 0.001,\n",
    "    \"action_noise\": \"No\",    # Options: No, Normal, OU, \n",
    "    \"sigma\": 0.1,            # OUNoise, Normal\n",
    "    \"critic_l2_reg\": 0.0,  # 1e-2\n",
    "}\n",
    "\n",
    "\n",
    "scores_window = deque(maxlen=100)\n",
    "                     \n",
    "agents= Agents(num_agents, config= config)\n",
    "\n",
    "for episode in range(NUM_EPISODES):\n",
    "    states, _= env_reset(env, True)\n",
    "    agents.reset()\n",
    "    score = np.zeros(num_agents)\n",
    "    \n",
    "    while True:\n",
    "        actions= agents.act(states, False)    # Agent action. Include noise\n",
    "        next_states, rewards, dones= env_step(env, actions)   # Environmet step\n",
    "        # Agent step. Includes learnig from memory\n",
    "        agents.step(states, actions, rewards, next_states, dones)\n",
    "        \n",
    "        score+= rewards        # update the score\n",
    "        states= next_states     # roll over the state to next time step\n",
    "        if np.any(dones):              # exit loop if episode finished\n",
    "            break\n",
    "    \n",
    "    \n",
    "    mean= np.mean(score)\n",
    "    agents.update(mean)          # Add score to agents and update param noise\n",
    "    scores_window.append(mean)       \n",
    "    mean_w_scores= np.mean(scores_window)\n",
    "    print('\\rEpisode {}\\tAverage Score: {:.2f}   '.format(episode+ 1, mean_w_scores), end=\"\")\n",
    "    if (episode+ 1) % 100 == 0:\n",
    "        print('\\rEpisode {}\\tAverage Score: {:.2f}   '.format(episode+ 1, mean_w_scores))\n",
    "    if mean_w_scores >= SOLVED_IN:\n",
    "        print('\\nEnvironment solved in {:d} episodes!\\tAverage Score: {:.2f}'.format((episode+ 1)-100, mean_w_scores))\n",
    "        break\n",
    "    \n",
    "        \n",
    "agents.save()\n",
    "\n",
    "\n",
    "        \n",
    "def running_mean(x, N):\n",
    "    cumsum = np.cumsum(np.insert(x, 0, 0)) \n",
    "    return (cumsum[N:] - cumsum[:-N]) / N \n",
    "\n",
    "smoothed_scores= running_mean(agents.scores, 10)\n",
    "plt.plot(np.arange(len(smoothed_scores)), smoothed_scores)\n",
    "plt.plot(np.arange(len(agents.scores)), agents.scores, color='grey', alpha=0.5)\n",
    "plt.xlabel('Episode')\n",
    "plt.ylabel('Reward')\n",
    "\n",
    "\n",
    "plt.show()\n",
    "print('Elapsed time', datetime.now()- start)"
   ]
  },
  {
   "cell_type": "markdown",
   "metadata": {},
   "source": [
    "### 4.- How the agents behave"
   ]
  },
  {
   "cell_type": "code",
   "execution_count": 10,
   "metadata": {},
   "outputs": [
    {
     "name": "stdout",
     "output_type": "stream",
     "text": [
      "\r",
      "Final score: 39.6\n"
     ]
    }
   ],
   "source": [
    "states, num_agents= env_reset(env, False)\n",
    "\n",
    "config= {\n",
    "    \"label\": \"Noisy layerNorm copy\",\n",
    "    \"state_size\": states.shape[1],\n",
    "    \"action_size\": brain.vector_action_space_size,\n",
    "    \"seed\": seed,\n",
    "    \"actor_lr\": 1e-3,\n",
    "    \"critic_lr\": 1e-3,\n",
    "    \"actor_nodes\": [32, 32],\n",
    "    \"critic_nodes\": [128, 128],\n",
    "    \"batch_size\": 256,\n",
    "    \"memory_size\": 100000,\n",
    "    \"discount\": 0.9,\n",
    "    \"tau\": 0.001,\n",
    "    \"action_noise\": \"No\",    # Options: No, Normal, OU, \n",
    "    \"sigma\": 0.1,            # OUNoise, Normal\n",
    "    \"critic_l2_reg\": 0.0,  # 1e-2\n",
    "}\n",
    "\n",
    "agents= Agents(num_agents, config= config)\n",
    "\n",
    "agents.load()\n",
    "agents.eval()\n",
    "\n",
    "score = np.zeros(num_agents)                       # initialize the score\n",
    "while True:\n",
    "    actions= agents.act(states, False)\n",
    "    next_states, rewards, dones= env_step(env, actions)\n",
    "    score += rewards                                # update the score\n",
    "    states= next_states   \n",
    "    if np.any(dones):                                       # exit loop if episode finished\n",
    "        break\n",
    "    \n",
    "print(\"\\rFinal score: {:.1f}\".format(np.max(score)))\n"
   ]
  },
  {
   "cell_type": "code",
   "execution_count": null,
   "metadata": {},
   "outputs": [],
   "source": []
  }
 ],
 "metadata": {
  "kernelspec": {
   "display_name": "Python 3",
   "language": "python",
   "name": "python3"
  },
  "language_info": {
   "codemirror_mode": {
    "name": "ipython",
    "version": 3
   },
   "file_extension": ".py",
   "mimetype": "text/x-python",
   "name": "python",
   "nbconvert_exporter": "python",
   "pygments_lexer": "ipython3",
   "version": "3.5.6"
  }
 },
 "nbformat": 4,
 "nbformat_minor": 2
}
